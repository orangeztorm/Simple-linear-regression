{
 "cells": [
  {
   "cell_type": "markdown",
   "metadata": {},
   "source": [
    "#   <center>Week 2: Linear Regression frow scratch </center>"
   ]
  },
  {
   "cell_type": "markdown",
   "metadata": {},
   "source": [
    "-----------"
   ]
  },
  {
   "cell_type": "markdown",
   "metadata": {},
   "source": [
    "<strong>Objective</strong>: To build a <strong>univariate linear regression model</strong> that can predict profit given population size."
   ]
  },
  {
   "cell_type": "markdown",
   "metadata": {},
   "source": [
    "Suppose you are the CEO of a restaurant franchise and are considering different cities for opening a new outlet. The chain already has trucks in various cities and you have data for <strong>profits</strong> and <strong>populations</strong> from the cities.\n",
    "\n",
    "You would like to use this data to help you select which city to expand to next.\n",
    "\n"
   ]
  },
  {
   "cell_type": "markdown",
   "metadata": {},
   "source": [
    "---------------"
   ]
  },
  {
   "cell_type": "markdown",
   "metadata": {},
   "source": [
    "# 1.  Load data"
   ]
  },
  {
   "cell_type": "markdown",
   "metadata": {},
   "source": [
    "To load and plot the data, three python libraries(Numpy, Pandas and Matplotlib) should be used. The libraries are first imported in the codeblock below."
   ]
  },
  {
   "cell_type": "code",
   "execution_count": 9,
   "metadata": {},
   "outputs": [],
   "source": [
    "# Import libraries\n",
    "import numpy as np\n",
    "import pandas as pd\n",
    "import matplotlib.pyplot as plt"
   ]
  },
  {
   "cell_type": "markdown",
   "metadata": {},
   "source": [
    "The file <strong>ex1data1.txt</strong> contains the dataset for our linear regression problem. The <strong>first column</strong> is the <strong>population</strong> of a city and the </strong>second column</strong> is the <strong>profit</strong> of a food truck in that city. A negative value for profit indicates a loss."
   ]
  },
  {
   "cell_type": "code",
   "execution_count": 10,
   "metadata": {},
   "outputs": [],
   "source": [
    "# Load dataset\n",
    "column_names = [\"Population\",\"Profit\"]  \n",
    "data = pd.read_csv('ex1data1.txt', names = column_names)"
   ]
  },
  {
   "cell_type": "markdown",
   "metadata": {},
   "source": [
    "- Data shape"
   ]
  },
  {
   "cell_type": "code",
   "execution_count": 11,
   "metadata": {},
   "outputs": [
    {
     "name": "stdout",
     "output_type": "stream",
     "text": [
      "data shape: (97, 2), column size: 97, row size: 2\n"
     ]
    }
   ],
   "source": [
    "print('data shape: {}, column size: {}, row size: {}' \\\n",
    "      .format(data.shape, data.shape[0], data.shape[1]))"
   ]
  },
  {
   "cell_type": "markdown",
   "metadata": {},
   "source": [
    "-  Display 5 random samples"
   ]
  },
  {
   "cell_type": "code",
   "execution_count": 51,
   "metadata": {
    "scrolled": true
   },
   "outputs": [
    {
     "data": {
      "text/html": [
       "<div>\n",
       "<style scoped>\n",
       "    .dataframe tbody tr th:only-of-type {\n",
       "        vertical-align: middle;\n",
       "    }\n",
       "\n",
       "    .dataframe tbody tr th {\n",
       "        vertical-align: top;\n",
       "    }\n",
       "\n",
       "    .dataframe thead th {\n",
       "        text-align: right;\n",
       "    }\n",
       "</style>\n",
       "<table border=\"1\" class=\"dataframe\">\n",
       "  <thead>\n",
       "    <tr style=\"text-align: right;\">\n",
       "      <th></th>\n",
       "      <th>Population</th>\n",
       "      <th>Profit</th>\n",
       "    </tr>\n",
       "  </thead>\n",
       "  <tbody>\n",
       "    <tr>\n",
       "      <th>47</th>\n",
       "      <td>5.8014</td>\n",
       "      <td>1.8440</td>\n",
       "    </tr>\n",
       "    <tr>\n",
       "      <th>20</th>\n",
       "      <td>6.1891</td>\n",
       "      <td>3.1386</td>\n",
       "    </tr>\n",
       "    <tr>\n",
       "      <th>63</th>\n",
       "      <td>14.9080</td>\n",
       "      <td>12.0540</td>\n",
       "    </tr>\n",
       "    <tr>\n",
       "      <th>29</th>\n",
       "      <td>22.2030</td>\n",
       "      <td>24.1470</td>\n",
       "    </tr>\n",
       "    <tr>\n",
       "      <th>78</th>\n",
       "      <td>10.2740</td>\n",
       "      <td>6.7526</td>\n",
       "    </tr>\n",
       "  </tbody>\n",
       "</table>\n",
       "</div>"
      ],
      "text/plain": [
       "    Population   Profit\n",
       "47      5.8014   1.8440\n",
       "20      6.1891   3.1386\n",
       "63     14.9080  12.0540\n",
       "29     22.2030  24.1470\n",
       "78     10.2740   6.7526"
      ]
     },
     "execution_count": 51,
     "metadata": {},
     "output_type": "execute_result"
    }
   ],
   "source": [
    "data.sample(5)"
   ]
  },
  {
   "cell_type": "markdown",
   "metadata": {},
   "source": [
    "- First 5 samples"
   ]
  },
  {
   "cell_type": "code",
   "execution_count": 13,
   "metadata": {
    "scrolled": false
   },
   "outputs": [
    {
     "data": {
      "text/html": [
       "<div>\n",
       "<style scoped>\n",
       "    .dataframe tbody tr th:only-of-type {\n",
       "        vertical-align: middle;\n",
       "    }\n",
       "\n",
       "    .dataframe tbody tr th {\n",
       "        vertical-align: top;\n",
       "    }\n",
       "\n",
       "    .dataframe thead th {\n",
       "        text-align: right;\n",
       "    }\n",
       "</style>\n",
       "<table border=\"1\" class=\"dataframe\">\n",
       "  <thead>\n",
       "    <tr style=\"text-align: right;\">\n",
       "      <th></th>\n",
       "      <th>Population</th>\n",
       "      <th>Profit</th>\n",
       "    </tr>\n",
       "  </thead>\n",
       "  <tbody>\n",
       "    <tr>\n",
       "      <th>0</th>\n",
       "      <td>6.1101</td>\n",
       "      <td>17.5920</td>\n",
       "    </tr>\n",
       "    <tr>\n",
       "      <th>1</th>\n",
       "      <td>5.5277</td>\n",
       "      <td>9.1302</td>\n",
       "    </tr>\n",
       "    <tr>\n",
       "      <th>2</th>\n",
       "      <td>8.5186</td>\n",
       "      <td>13.6620</td>\n",
       "    </tr>\n",
       "    <tr>\n",
       "      <th>3</th>\n",
       "      <td>7.0032</td>\n",
       "      <td>11.8540</td>\n",
       "    </tr>\n",
       "    <tr>\n",
       "      <th>4</th>\n",
       "      <td>5.8598</td>\n",
       "      <td>6.8233</td>\n",
       "    </tr>\n",
       "  </tbody>\n",
       "</table>\n",
       "</div>"
      ],
      "text/plain": [
       "   Population   Profit\n",
       "0      6.1101  17.5920\n",
       "1      5.5277   9.1302\n",
       "2      8.5186  13.6620\n",
       "3      7.0032  11.8540\n",
       "4      5.8598   6.8233"
      ]
     },
     "execution_count": 13,
     "metadata": {},
     "output_type": "execute_result"
    }
   ],
   "source": [
    "data.head(5)"
   ]
  },
  {
   "cell_type": "markdown",
   "metadata": {},
   "source": [
    "- Last 5 samples"
   ]
  },
  {
   "cell_type": "code",
   "execution_count": 14,
   "metadata": {},
   "outputs": [
    {
     "data": {
      "text/html": [
       "<div>\n",
       "<style scoped>\n",
       "    .dataframe tbody tr th:only-of-type {\n",
       "        vertical-align: middle;\n",
       "    }\n",
       "\n",
       "    .dataframe tbody tr th {\n",
       "        vertical-align: top;\n",
       "    }\n",
       "\n",
       "    .dataframe thead th {\n",
       "        text-align: right;\n",
       "    }\n",
       "</style>\n",
       "<table border=\"1\" class=\"dataframe\">\n",
       "  <thead>\n",
       "    <tr style=\"text-align: right;\">\n",
       "      <th></th>\n",
       "      <th>Population</th>\n",
       "      <th>Profit</th>\n",
       "    </tr>\n",
       "  </thead>\n",
       "  <tbody>\n",
       "    <tr>\n",
       "      <th>92</th>\n",
       "      <td>5.8707</td>\n",
       "      <td>7.20290</td>\n",
       "    </tr>\n",
       "    <tr>\n",
       "      <th>93</th>\n",
       "      <td>5.3054</td>\n",
       "      <td>1.98690</td>\n",
       "    </tr>\n",
       "    <tr>\n",
       "      <th>94</th>\n",
       "      <td>8.2934</td>\n",
       "      <td>0.14454</td>\n",
       "    </tr>\n",
       "    <tr>\n",
       "      <th>95</th>\n",
       "      <td>13.3940</td>\n",
       "      <td>9.05510</td>\n",
       "    </tr>\n",
       "    <tr>\n",
       "      <th>96</th>\n",
       "      <td>5.4369</td>\n",
       "      <td>0.61705</td>\n",
       "    </tr>\n",
       "  </tbody>\n",
       "</table>\n",
       "</div>"
      ],
      "text/plain": [
       "    Population   Profit\n",
       "92      5.8707  7.20290\n",
       "93      5.3054  1.98690\n",
       "94      8.2934  0.14454\n",
       "95     13.3940  9.05510\n",
       "96      5.4369  0.61705"
      ]
     },
     "execution_count": 14,
     "metadata": {},
     "output_type": "execute_result"
    }
   ],
   "source": [
    "data.tail(5)"
   ]
  },
  {
   "cell_type": "markdown",
   "metadata": {},
   "source": [
    "----------"
   ]
  },
  {
   "cell_type": "markdown",
   "metadata": {},
   "source": [
    "# 2. Exploratory Data Analysis"
   ]
  },
  {
   "cell_type": "code",
   "execution_count": 15,
   "metadata": {},
   "outputs": [
    {
     "data": {
      "text/html": [
       "<div>\n",
       "<style scoped>\n",
       "    .dataframe tbody tr th:only-of-type {\n",
       "        vertical-align: middle;\n",
       "    }\n",
       "\n",
       "    .dataframe tbody tr th {\n",
       "        vertical-align: top;\n",
       "    }\n",
       "\n",
       "    .dataframe thead th {\n",
       "        text-align: right;\n",
       "    }\n",
       "</style>\n",
       "<table border=\"1\" class=\"dataframe\">\n",
       "  <thead>\n",
       "    <tr style=\"text-align: right;\">\n",
       "      <th></th>\n",
       "      <th>Population</th>\n",
       "      <th>Profit</th>\n",
       "    </tr>\n",
       "  </thead>\n",
       "  <tbody>\n",
       "    <tr>\n",
       "      <th>count</th>\n",
       "      <td>97.000000</td>\n",
       "      <td>97.000000</td>\n",
       "    </tr>\n",
       "    <tr>\n",
       "      <th>mean</th>\n",
       "      <td>8.159800</td>\n",
       "      <td>5.839135</td>\n",
       "    </tr>\n",
       "    <tr>\n",
       "      <th>std</th>\n",
       "      <td>3.869884</td>\n",
       "      <td>5.510262</td>\n",
       "    </tr>\n",
       "    <tr>\n",
       "      <th>min</th>\n",
       "      <td>5.026900</td>\n",
       "      <td>-2.680700</td>\n",
       "    </tr>\n",
       "    <tr>\n",
       "      <th>25%</th>\n",
       "      <td>5.707700</td>\n",
       "      <td>1.986900</td>\n",
       "    </tr>\n",
       "    <tr>\n",
       "      <th>50%</th>\n",
       "      <td>6.589400</td>\n",
       "      <td>4.562300</td>\n",
       "    </tr>\n",
       "    <tr>\n",
       "      <th>75%</th>\n",
       "      <td>8.578100</td>\n",
       "      <td>7.046700</td>\n",
       "    </tr>\n",
       "    <tr>\n",
       "      <th>max</th>\n",
       "      <td>22.203000</td>\n",
       "      <td>24.147000</td>\n",
       "    </tr>\n",
       "  </tbody>\n",
       "</table>\n",
       "</div>"
      ],
      "text/plain": [
       "       Population     Profit\n",
       "count   97.000000  97.000000\n",
       "mean     8.159800   5.839135\n",
       "std      3.869884   5.510262\n",
       "min      5.026900  -2.680700\n",
       "25%      5.707700   1.986900\n",
       "50%      6.589400   4.562300\n",
       "75%      8.578100   7.046700\n",
       "max     22.203000  24.147000"
      ]
     },
     "execution_count": 15,
     "metadata": {},
     "output_type": "execute_result"
    }
   ],
   "source": [
    "#Data Summary\n",
    "data.describe()"
   ]
  },
  {
   "cell_type": "code",
   "execution_count": 17,
   "metadata": {},
   "outputs": [
    {
     "data": {
      "text/html": [
       "<style  type=\"text/css\" >\n",
       "    #T_f5d363da_e0b0_11e9_bc4b_606dc7fce2b2row0_col0 {\n",
       "            background-color:  #5e4fa2;\n",
       "        }    #T_f5d363da_e0b0_11e9_bc4b_606dc7fce2b2row0_col1 {\n",
       "            background-color:  #9e0142;\n",
       "        }    #T_f5d363da_e0b0_11e9_bc4b_606dc7fce2b2row1_col0 {\n",
       "            background-color:  #9e0142;\n",
       "        }    #T_f5d363da_e0b0_11e9_bc4b_606dc7fce2b2row1_col1 {\n",
       "            background-color:  #5e4fa2;\n",
       "        }</style>  \n",
       "<table id=\"T_f5d363da_e0b0_11e9_bc4b_606dc7fce2b2\" > \n",
       "<thead>    <tr> \n",
       "        <th class=\"blank level0\" ></th> \n",
       "        <th class=\"col_heading level0 col0\" >Population</th> \n",
       "        <th class=\"col_heading level0 col1\" >Profit</th> \n",
       "    </tr></thead> \n",
       "<tbody>    <tr> \n",
       "        <th id=\"T_f5d363da_e0b0_11e9_bc4b_606dc7fce2b2level0_row0\" class=\"row_heading level0 row0\" >Population</th> \n",
       "        <td id=\"T_f5d363da_e0b0_11e9_bc4b_606dc7fce2b2row0_col0\" class=\"data row0 col0\" >1</td> \n",
       "        <td id=\"T_f5d363da_e0b0_11e9_bc4b_606dc7fce2b2row0_col1\" class=\"data row0 col1\" >0.837873</td> \n",
       "    </tr>    <tr> \n",
       "        <th id=\"T_f5d363da_e0b0_11e9_bc4b_606dc7fce2b2level0_row1\" class=\"row_heading level0 row1\" >Profit</th> \n",
       "        <td id=\"T_f5d363da_e0b0_11e9_bc4b_606dc7fce2b2row1_col0\" class=\"data row1 col0\" >0.837873</td> \n",
       "        <td id=\"T_f5d363da_e0b0_11e9_bc4b_606dc7fce2b2row1_col1\" class=\"data row1 col1\" >1</td> \n",
       "    </tr></tbody> \n",
       "</table> "
      ],
      "text/plain": [
       "<pandas.io.formats.style.Styler at 0x49eacf8b38>"
      ]
     },
     "execution_count": 17,
     "metadata": {},
     "output_type": "execute_result"
    }
   ],
   "source": [
    "# Correlation \n",
    "corr = data.corr()\n",
    "corr.style.background_gradient(cmap='Spectral')"
   ]
  },
  {
   "cell_type": "code",
   "execution_count": 18,
   "metadata": {},
   "outputs": [
    {
     "data": {
      "text/html": [
       "<style  type=\"text/css\" >\n",
       "    #T_f98fdd38_e0b0_11e9_b829_606dc7fce2b2row0_col0 {\n",
       "            background-color:  #9e0142;\n",
       "        }    #T_f98fdd38_e0b0_11e9_b829_606dc7fce2b2row0_col1 {\n",
       "            background-color:  #9e0142;\n",
       "        }    #T_f98fdd38_e0b0_11e9_b829_606dc7fce2b2row1_col0 {\n",
       "            background-color:  #5e4fa2;\n",
       "        }    #T_f98fdd38_e0b0_11e9_b829_606dc7fce2b2row1_col1 {\n",
       "            background-color:  #5e4fa2;\n",
       "        }</style>  \n",
       "<table id=\"T_f98fdd38_e0b0_11e9_b829_606dc7fce2b2\" > \n",
       "<thead>    <tr> \n",
       "        <th class=\"blank level0\" ></th> \n",
       "        <th class=\"col_heading level0 col0\" >Population</th> \n",
       "        <th class=\"col_heading level0 col1\" >Profit</th> \n",
       "    </tr></thead> \n",
       "<tbody>    <tr> \n",
       "        <th id=\"T_f98fdd38_e0b0_11e9_b829_606dc7fce2b2level0_row0\" class=\"row_heading level0 row0\" >Population</th> \n",
       "        <td id=\"T_f98fdd38_e0b0_11e9_b829_606dc7fce2b2row0_col0\" class=\"data row0 col0\" >14.976</td> \n",
       "        <td id=\"T_f98fdd38_e0b0_11e9_b829_606dc7fce2b2row0_col1\" class=\"data row0 col1\" >17.8669</td> \n",
       "    </tr>    <tr> \n",
       "        <th id=\"T_f98fdd38_e0b0_11e9_b829_606dc7fce2b2level0_row1\" class=\"row_heading level0 row1\" >Profit</th> \n",
       "        <td id=\"T_f98fdd38_e0b0_11e9_b829_606dc7fce2b2row1_col0\" class=\"data row1 col0\" >17.8669</td> \n",
       "        <td id=\"T_f98fdd38_e0b0_11e9_b829_606dc7fce2b2row1_col1\" class=\"data row1 col1\" >30.363</td> \n",
       "    </tr></tbody> \n",
       "</table> "
      ],
      "text/plain": [
       "<pandas.io.formats.style.Styler at 0x49eacf8a90>"
      ]
     },
     "execution_count": 18,
     "metadata": {},
     "output_type": "execute_result"
    }
   ],
   "source": [
    "# Covariance\n",
    "cov = data.cov()\n",
    "cov.style.background_gradient(cmap='Spectral')"
   ]
  },
  {
   "cell_type": "markdown",
   "metadata": {},
   "source": [
    "-----"
   ]
  },
  {
   "cell_type": "markdown",
   "metadata": {},
   "source": [
    "## 2.1. Visualization "
   ]
  },
  {
   "cell_type": "markdown",
   "metadata": {},
   "source": [
    "It is a good practice to visualize your data before building a model. The aim of data visualization is to give you an insight on the problem. We will be using <strong>matplotlib</strong>  and <strong>seaborn</strong> libracy for visuals."
   ]
  },
  {
   "cell_type": "markdown",
   "metadata": {},
   "source": [
    "- Boxplot"
   ]
  },
  {
   "cell_type": "code",
   "execution_count": 19,
   "metadata": {
    "scrolled": false
   },
   "outputs": [
    {
     "data": {
      "text/plain": [
       "<matplotlib.axes._subplots.AxesSubplot at 0x49e6c9b0b8>"
      ]
     },
     "execution_count": 19,
     "metadata": {},
     "output_type": "execute_result"
    },
    {
     "data": {
      "image/png": "[encoded data removed]",
      "text/plain": [
       "<Figure size 576x576 with 1 Axes>"
      ]
     },
     "metadata": {},
     "output_type": "display_data"
    }
   ],
   "source": [
    "data.Population.plot(kind='box', figsize=(8,8), color='brown')"
   ]
  },
  {
   "cell_type": "markdown",
   "metadata": {},
   "source": [
    "- Histogram"
   ]
  },
  {
   "cell_type": "code",
   "execution_count": 52,
   "metadata": {},
   "outputs": [
    {
     "data": {
      "text/plain": [
       "<matplotlib.axes._subplots.AxesSubplot at 0x49e92ad3c8>"
      ]
     },
     "execution_count": 52,
     "metadata": {},
     "output_type": "execute_result"
    },
    {
     "data": {
      "image/png": "[encoded data removed]",
      "text/plain": [
       "<Figure size 864x576 with 1 Axes>"
      ]
     },
     "metadata": {},
     "output_type": "display_data"
    }
   ],
   "source": [
    "data.Population.plot(kind='hist', figsize=(12,8), color='green')"
   ]
  },
  {
   "cell_type": "code",
   "execution_count": 21,
   "metadata": {},
   "outputs": [
    {
     "data": {
      "text/plain": [
       "<matplotlib.axes._subplots.AxesSubplot at 0x49e6d57a20>"
      ]
     },
     "execution_count": 21,
     "metadata": {},
     "output_type": "execute_result"
    },
    {
     "data": {
      "image/png": "[encoded data removed]",
      "text/plain": [
       "<Figure size 864x576 with 1 Axes>"
      ]
     },
     "metadata": {},
     "output_type": "display_data"
    }
   ],
   "source": [
    "data.Profit.plot(kind='hist', figsize=(12,8), color='red')"
   ]
  },
  {
   "cell_type": "markdown",
   "metadata": {},
   "source": [
    "- Scatterplot"
   ]
  },
  {
   "cell_type": "code",
   "execution_count": 22,
   "metadata": {},
   "outputs": [
    {
     "data": {
      "text/plain": [
       "Text(0,0.5,'Profit in $10,000s')"
      ]
     },
     "execution_count": 22,
     "metadata": {},
     "output_type": "execute_result"
    },
    {
     "data": {
      "image/png": "[encoded data removed]",
      "text/plain": [
       "<Figure size 864x576 with 1 Axes>"
      ]
     },
     "metadata": {},
     "output_type": "display_data"
    }
   ],
   "source": [
    "# scatterplot\n",
    "data.plot(kind = 'scatter', x = 'Population', y = 'Profit',\n",
    "          s= 40, color = 'blue', figsize=(12,8))\n",
    "\n",
    "# labels\n",
    "plt.xlabel('Population of City in 10,000s', fontsize = 14)\n",
    "plt.ylabel('Profit in $10,000s', fontsize =14)"
   ]
  },
  {
   "cell_type": "markdown",
   "metadata": {},
   "source": [
    "-----"
   ]
  },
  {
   "cell_type": "markdown",
   "metadata": {},
   "source": [
    "# 3. Problem Formulation"
   ]
  },
  {
   "cell_type": "markdown",
   "metadata": {},
   "source": [
    "From the exploratory data analysis we can observe there is a positive correlation between the two variables. This means that we can develop a model that will be able to make reasonable predictions"
   ]
  },
  {
   "cell_type": "markdown",
   "metadata": {},
   "source": [
    "We have 97 training examples and one independent variable `x` on the first column and one dependent variable `y` on the second column\n",
    "\n",
    "**Recall:**\n",
    "- Our untrained model is given by: ![title](img/model.gif)\n",
    "    \n",
    "- Which you can also be written as ![title](img/model2.gif)\n",
    "\n",
    "where:\n",
    "- `x` is the input values\n",
    "- `y` is the ground truth or actual values\n",
    "- `theta` is the <strong>weight or learnable<strong> parameters  \n",
    "\n"
   ]
  },
  {
   "cell_type": "code",
   "execution_count": 25,
   "metadata": {},
   "outputs": [],
   "source": [
    "# input values - xs and 1s\n",
    "nrows = data.shape[0]\n",
    "ncols = data.shape[1]\n",
    "\n",
    "x = data.loc[:, 'Population'].values #converts to Numpy array\n",
    "x = x.reshape(nrows, 1)  # Alternatively x.reshape(-1,1)"
   ]
  },
  {
   "cell_type": "code",
   "execution_count": 26,
   "metadata": {},
   "outputs": [
    {
     "data": {
      "text/plain": [
       "(97, 1)"
      ]
     },
     "execution_count": 26,
     "metadata": {},
     "output_type": "execute_result"
    }
   ],
   "source": [
    "x.shape"
   ]
  },
  {
   "cell_type": "markdown",
   "metadata": {},
   "source": [
    "Because `x_0` is `1`, we want to create a `97 x 2` matrix that contains the input values on the first column and ones in the second column."
   ]
  },
  {
   "cell_type": "code",
   "execution_count": 27,
   "metadata": {},
   "outputs": [],
   "source": [
    "one_stack = np.ones((nrows,1))\n",
    "x_stack = np.hstack((x, one_stack))"
   ]
  },
  {
   "cell_type": "code",
   "execution_count": 28,
   "metadata": {
    "scrolled": true
   },
   "outputs": [
    {
     "data": {
      "text/plain": [
       "array([[6.1101, 1.    ],\n",
       "       [5.5277, 1.    ],\n",
       "       [8.5186, 1.    ]])"
      ]
     },
     "execution_count": 28,
     "metadata": {},
     "output_type": "execute_result"
    }
   ],
   "source": [
    "x_stack[:3]"
   ]
  },
  {
   "cell_type": "code",
   "execution_count": 30,
   "metadata": {},
   "outputs": [],
   "source": [
    "# output variable\n",
    "y = data.loc[:, 'Profit'].values # converts to Numpy array\n",
    "y = y.reshape(nrows,1)"
   ]
  },
  {
   "cell_type": "code",
   "execution_count": 31,
   "metadata": {},
   "outputs": [
    {
     "data": {
      "text/plain": [
       "(97, 1)"
      ]
     },
     "execution_count": 31,
     "metadata": {},
     "output_type": "execute_result"
    }
   ],
   "source": [
    "y.shape"
   ]
  },
  {
   "cell_type": "markdown",
   "metadata": {},
   "source": [
    "# 4. Model Building"
   ]
  },
  {
   "cell_type": "markdown",
   "metadata": {},
   "source": [
    "Recall from the class, the process to training a linear regression model is as follow.\n",
    "\n",
    "We want to find the appropriate value of `theta` that will give us a good estimate of a city's profit if lthe city's population is supplied.\n",
    "\n",
    "To do this, \n",
    "- We want to start with a random value of `theta` to generate a hypothesis\n",
    "![title](img/model3.gif)\n",
    "\n",
    "- Then continually correct values of `theta` until the deviation of the hypothesis/prediction `h` from the ground-truth `y` is greatly reduced\n",
    "\n",
    "**Note:** \n",
    "- Matrix multiplication was utilized for the calculation. "
   ]
  },
  {
   "cell_type": "code",
   "execution_count": 84,
   "metadata": {},
   "outputs": [],
   "source": [
    "def train(x,y):\n",
    "    print_every = 50 \n",
    "    iteration = 2500\n",
    "    \n",
    "    # Zero initialization of parameters \n",
    "    theta = [[0.5],[0.5]]\n",
    "    \n",
    "    # Here, want to save our cost function or loss or square error, \n",
    "    # so that we can have an idea of how the deviation of the hypothesis from the ground thruth reduces\n",
    "    cost_function = np.zeros(iteration)\n",
    "    \n",
    "    for i in range(0, iteration):\n",
    "        # Step 1: we make a prediction using the random weights (theta) that we initialized\n",
    "        # @ is a fancy way do performing dot products\n",
    "        h = x @ theta\n",
    "        \n",
    "        # Step 2: We take a step to correct the weights (theta) to that the next predicion will be better\n",
    "        theta = update_weight(h, theta, x)\n",
    "        \n",
    "        # Step 3: We measure the deviation or error\n",
    "        cost_function[i] = cost(x, theta)\n",
    "        \n",
    "        # Display result every 50 iterations\n",
    "        if i % print_every  == 0:\n",
    "            print(\"Iteration: {}, Cost function: {} \".format(i, cost_function[i]))\n",
    "    \n",
    "    return theta, cost_function"
   ]
  },
  {
   "cell_type": "markdown",
   "metadata": {},
   "source": [
    "But how do we check the error like we defined above?\n",
    "\n",
    "Remember the error formular (cost function)? \n",
    "![title](img/model44.gif)\n",
    "\n",
    "where:\n",
    "- `m` is the number of training example\n",
    "- `x` is the input data\n",
    "- `h` is the hypothesis\n",
    "- `y` is the prediction\n",
    "\n",
    "The equation tries to find the square error between the ground truth and the prediction.\n",
    "\n"
   ]
  },
  {
   "cell_type": "code",
   "execution_count": 85,
   "metadata": {},
   "outputs": [],
   "source": [
    "def cost(x, theta):\n",
    "    m = nrows\n",
    "    h = x @ theta\n",
    "    return (1/(2 * m)) * np.sum(np.square(h - y))"
   ]
  },
  {
   "cell_type": "markdown",
   "metadata": {},
   "source": [
    "Now that we are able to get a sense of the error, how do we update how weight (theta) such that is predicts better?\n",
    "\n",
    "Like we discussed in class, gradient descent algorithim will be used for this purpose.\n",
    "\n",
    "The general formular for gradient is given below:\n",
    "![title](img/model6.gif)\n",
    "which can be differentiated to give:\n",
    "![title](img/model5.gif)\n",
    "where\n",
    "- alpha is the <strong>learning rate</strong>\n",
    "\n",
    "ie: we continually update the weight(theta) by taking steps(alpha) for the derived gradient of the error until we have sufficiently minimized theta."
   ]
  },
  {
   "cell_type": "code",
   "execution_count": 86,
   "metadata": {},
   "outputs": [],
   "source": [
    "def update_weight(h, theta, x):\n",
    "    m = nrows\n",
    "    alpha = 0.01\n",
    "    theta = theta - alpha * (1 / m * ( x.T @ (h - y)))\n",
    "    return theta"
   ]
  },
  {
   "cell_type": "markdown",
   "metadata": {},
   "source": [
    "- Now, lets pass in our data and train."
   ]
  },
  {
   "cell_type": "code",
   "execution_count": 87,
   "metadata": {
    "scrolled": false
   },
   "outputs": [
    {
     "name": "stdout",
     "output_type": "stream",
     "text": [
      "Iteration: 0, Cost function: 6.331084923480765 \n",
      "Iteration: 50, Cost function: 5.957119560081572 \n",
      "Iteration: 100, Cost function: 5.712773141061569 \n",
      "Iteration: 150, Cost function: 5.5087640160564515 \n",
      "Iteration: 200, Cost function: 5.338433207639953 \n",
      "Iteration: 250, Cost function: 5.19622101838082 \n",
      "Iteration: 300, Cost function: 5.077485559059671 \n",
      "Iteration: 350, Cost function: 4.978351234683895 \n",
      "Iteration: 400, Cost function: 4.895582242795294 \n",
      "Iteration: 450, Cost function: 4.826476954981081 \n",
      "Iteration: 500, Cost function: 4.768779734138858 \n",
      "Iteration: 550, Cost function: 4.720607309159362 \n",
      "Iteration: 600, Cost function: 4.680387303853546 \n",
      "Iteration: 650, Cost function: 4.646806913672061 \n",
      "Iteration: 700, Cost function: 4.618770054995222 \n",
      "Iteration: 750, Cost function: 4.59536158832117 \n",
      "Iteration: 800, Cost function: 4.575817447576082 \n",
      "Iteration: 850, Cost function: 4.559499700549654 \n",
      "Iteration: 900, Cost function: 4.5458757264138026 \n",
      "Iteration: 950, Cost function: 4.534500830666628 \n",
      "Iteration: 1000, Cost function: 4.52500373004321 \n",
      "Iteration: 1050, Cost function: 4.517074433612184 \n",
      "Iteration: 1100, Cost function: 4.510454124490047 \n",
      "Iteration: 1150, Cost function: 4.504926711906356 \n",
      "Iteration: 1200, Cost function: 4.500311777874323 \n",
      "Iteration: 1250, Cost function: 4.496458688241958 \n",
      "Iteration: 1300, Cost function: 4.4932416759050575 \n",
      "Iteration: 1350, Cost function: 4.490555735695194 \n",
      "Iteration: 1400, Cost function: 4.488313196949474 \n",
      "Iteration: 1450, Cost function: 4.486440861888705 \n",
      "Iteration: 1500, Cost function: 4.48487761639898 \n",
      "Iteration: 1550, Cost function: 4.483572435231167 \n",
      "Iteration: 1600, Cost function: 4.482482716506881 \n",
      "Iteration: 1650, Cost function: 4.481572891168187 \n",
      "Iteration: 1700, Cost function: 4.480813261982711 \n",
      "Iteration: 1750, Cost function: 4.480179034208557 \n",
      "Iteration: 1800, Cost function: 4.479649506279406 \n",
      "Iteration: 1850, Cost function: 4.479207394093253 \n",
      "Iteration: 1900, Cost function: 4.4788382668491815 \n",
      "Iteration: 1950, Cost function: 4.478530076017573 \n",
      "Iteration: 2000, Cost function: 4.478272762069026 \n",
      "Iteration: 2050, Cost function: 4.478057926125431 \n",
      "Iteration: 2100, Cost function: 4.477878555815654 \n",
      "Iteration: 2150, Cost function: 4.47772879638764 \n",
      "Iteration: 2200, Cost function: 4.4776037596058735 \n",
      "Iteration: 2250, Cost function: 4.477499364196505 \n",
      "Iteration: 2300, Cost function: 4.477412202632176 \n",
      "Iteration: 2350, Cost function: 4.4773394299083344 \n",
      "Iteration: 2400, Cost function: 4.477278670680618 \n",
      "Iteration: 2450, Cost function: 4.477227941732216 \n"
     ]
    }
   ],
   "source": [
    "theta, cost_values = train(x_stack,y)"
   ]
  },
  {
   "cell_type": "code",
   "execution_count": 88,
   "metadata": {},
   "outputs": [
    {
     "data": {
      "text/plain": [
       "array([6.33108492, 6.24596258, 6.23711197, ..., 4.47718792, 4.47718714,\n",
       "       4.47718636])"
      ]
     },
     "execution_count": 88,
     "metadata": {},
     "output_type": "execute_result"
    }
   ],
   "source": [
    "# Now, lets see our cost_values\n",
    "cost_values"
   ]
  },
  {
   "cell_type": "code",
   "execution_count": 89,
   "metadata": {},
   "outputs": [
    {
     "data": {
      "text/plain": [
       "array([6.33108492, 6.24596258, 6.23711197, ..., 4.47718792, 4.47718714,\n",
       "       4.47718636])"
      ]
     },
     "execution_count": 89,
     "metadata": {},
     "output_type": "execute_result"
    }
   ],
   "source": [
    "cost_values"
   ]
  },
  {
   "cell_type": "code",
   "execution_count": 90,
   "metadata": {},
   "outputs": [
    {
     "name": "stdout",
     "output_type": "stream",
     "text": [
      "Our learned value of theta:  [ 1.18815177 -3.84718606]\n"
     ]
    }
   ],
   "source": [
    "# Now, lets see our trained weights\n",
    "print('Our learned value of theta: ',theta.ravel())"
   ]
  },
  {
   "cell_type": "code",
   "execution_count": 91,
   "metadata": {},
   "outputs": [
    {
     "data": {
      "text/plain": [
       "(2, 1)"
      ]
     },
     "execution_count": 91,
     "metadata": {},
     "output_type": "execute_result"
    }
   ],
   "source": [
    "theta.shape"
   ]
  },
  {
   "cell_type": "code",
   "execution_count": 92,
   "metadata": {},
   "outputs": [
    {
     "data": {
      "text/plain": [
       "(2,)"
      ]
     },
     "execution_count": 92,
     "metadata": {},
     "output_type": "execute_result"
    }
   ],
   "source": [
    "theta.ravel().shape # Alternatively theta.squeeze().shape"
   ]
  },
  {
   "cell_type": "code",
   "execution_count": 45,
   "metadata": {
    "scrolled": true
   },
   "outputs": [
    {
     "data": {
      "image/png": "[encoded data removed]",
      "text/plain": [
       "<Figure size 432x288 with 1 Axes>"
      ]
     },
     "metadata": {},
     "output_type": "display_data"
    }
   ],
   "source": [
    "plt.plot(cost_values)\n",
    "plt.ylabel('Cost J')\n",
    "plt.xlabel('Iterations')\n",
    "plt.show()"
   ]
  },
  {
   "cell_type": "markdown",
   "metadata": {},
   "source": [
    "Notice that at the `1500th iteration`, the model doesnt really change anymore. You should actually stop the iteration at that time and save cost of processing"
   ]
  },
  {
   "cell_type": "code",
   "execution_count": 93,
   "metadata": {},
   "outputs": [
    {
     "data": {
      "text/plain": [
       "[<matplotlib.lines.Line2D at 0x49e6df87f0>]"
      ]
     },
     "execution_count": 93,
     "metadata": {},
     "output_type": "execute_result"
    },
    {
     "data": {
      "image/png": "[encoded data removed]",
      "text/plain": [
       "<Figure size 432x288 with 1 Axes>"
      ]
     },
     "metadata": {},
     "output_type": "display_data"
    }
   ],
   "source": [
    "x_plot = np.arange(5,23)\n",
    "y_plot = theta[0]*x_plot + theta[1]\n",
    "# Plot gradient descent\n",
    "plt.scatter(x[:,0], y, s=30, c='r', marker='o', linewidths=1)\n",
    "plt.plot(x_plot,y_plot, label='Linear regression (Gradient descent)')"
   ]
  },
  {
   "cell_type": "markdown",
   "metadata": {},
   "source": [
    "---------------"
   ]
  },
  {
   "cell_type": "markdown",
   "metadata": {},
   "source": [
    "## 5. Prediction "
   ]
  },
  {
   "cell_type": "markdown",
   "metadata": {},
   "source": [
    "Here, I hard coded the learned weights in the model that we defined earlier.\n",
    "![Title](img/model.gif)"
   ]
  },
  {
   "cell_type": "code",
   "execution_count": 48,
   "metadata": {},
   "outputs": [],
   "source": [
    "def predict():\n",
    "    input_ = float(input('Enter the population size(10,000): '))\n",
    "    print(\"For a population of {}, the estimated profit is ${}\".format(input_, input_ * 1.2334223))"
   ]
  },
  {
   "cell_type": "code",
   "execution_count": 95,
   "metadata": {
    "scrolled": true
   },
   "outputs": [
    {
     "name": "stdout",
     "output_type": "stream",
     "text": [
      "Enter the population size(10,000): 500\n",
      "For a population of 500.0, the estimated profit is $616.71115\n"
     ]
    }
   ],
   "source": [
    "predict()"
   ]
  },
  {
   "cell_type": "markdown",
   "metadata": {},
   "source": [
    "----------------------"
   ]
  },
  {
   "cell_type": "markdown",
   "metadata": {},
   "source": [
    "# Assignment"
   ]
  },
  {
   "cell_type": "markdown",
   "metadata": {},
   "source": [
    "\n",
    "1. Use `scikit-learn` to develop a linear regression model using the same dataset in this practice and compare result.\n",
    "2. Apply data normalization and compare the your solution with the  above result.\n",
    "3. Rewrite the train function such that we pass   `'iteration', 'print_every' and 'alpha'` as arguments.\n",
    "\n",
    "\n",
    "Assignment is due for submission on `26/09/2019`.\n",
    "\n",
    "Summission link will be posted on the `SLACK CHANNEL/MAIL`?"
   ]
  },
  {
   "cell_type": "markdown",
   "metadata": {},
   "source": [
    "------------------"
   ]
  },
  {
   "cell_type": "markdown",
   "metadata": {},
   "source": [
    "## Credit"
   ]
  },
  {
   "cell_type": "markdown",
   "metadata": {},
   "source": [
    "This exercise is adapted from [Andrew Ng Machine Learning Course](https://www.coursera.org/learn/machine-learning)."
   ]
  }
 ],
 "metadata": {
  "kernelspec": {
   "display_name": "Python 3",
   "language": "python",
   "name": "python3"
  },
  "language_info": {
   "codemirror_mode": {
    "name": "ipython",
    "version": 3
   },
   "file_extension": ".py",
   "mimetype": "text/x-python",
   "name": "python",
   "nbconvert_exporter": "python",
   "pygments_lexer": "ipython3",
   "version": "3.6.5"
  }
 },
 "nbformat": 4,
 "nbformat_minor": 2
}
