{
 "cells": [
  {
   "cell_type": "code",
   "execution_count": 87,
   "metadata": {},
   "outputs": [],
   "source": [
    "# Normalize the data atrributes\n",
    "import numpy as np\n",
    "import matplotlib.pyplot as plt\n",
    "import pandas as pd\n",
    "from sklearn import preprocessing"
   ]
  },
  {
   "cell_type": "code",
   "execution_count": 88,
   "metadata": {},
   "outputs": [],
   "source": [
    "# Load the datasets\n",
    "column_names = [\"Population\",\"Profit\"]  \n",
    "data = pd.read_csv('ex1data1.txt', names = column_names)"
   ]
  },
  {
   "cell_type": "code",
   "execution_count": 89,
   "metadata": {},
   "outputs": [
    {
     "name": "stdout",
     "output_type": "stream",
     "text": [
      "data shape: (97, 2), column size: 97, row size: 2\n"
     ]
    }
   ],
   "source": [
    "print('data shape: {}, column size: {}, row size: {}' \\\n",
    "      .format(data.shape, data.shape[0], data.shape[1]))"
   ]
  },
  {
   "cell_type": "code",
   "execution_count": 90,
   "metadata": {},
   "outputs": [
    {
     "data": {
      "text/html": [
       "<div>\n",
       "<style scoped>\n",
       "    .dataframe tbody tr th:only-of-type {\n",
       "        vertical-align: middle;\n",
       "    }\n",
       "\n",
       "    .dataframe tbody tr th {\n",
       "        vertical-align: top;\n",
       "    }\n",
       "\n",
       "    .dataframe thead th {\n",
       "        text-align: right;\n",
       "    }\n",
       "</style>\n",
       "<table border=\"1\" class=\"dataframe\">\n",
       "  <thead>\n",
       "    <tr style=\"text-align: right;\">\n",
       "      <th></th>\n",
       "      <th>Population</th>\n",
       "      <th>Profit</th>\n",
       "    </tr>\n",
       "  </thead>\n",
       "  <tbody>\n",
       "    <tr>\n",
       "      <th>count</th>\n",
       "      <td>97.000000</td>\n",
       "      <td>97.000000</td>\n",
       "    </tr>\n",
       "    <tr>\n",
       "      <th>mean</th>\n",
       "      <td>8.159800</td>\n",
       "      <td>5.839135</td>\n",
       "    </tr>\n",
       "    <tr>\n",
       "      <th>std</th>\n",
       "      <td>3.869884</td>\n",
       "      <td>5.510262</td>\n",
       "    </tr>\n",
       "    <tr>\n",
       "      <th>min</th>\n",
       "      <td>5.026900</td>\n",
       "      <td>-2.680700</td>\n",
       "    </tr>\n",
       "    <tr>\n",
       "      <th>25%</th>\n",
       "      <td>5.707700</td>\n",
       "      <td>1.986900</td>\n",
       "    </tr>\n",
       "    <tr>\n",
       "      <th>50%</th>\n",
       "      <td>6.589400</td>\n",
       "      <td>4.562300</td>\n",
       "    </tr>\n",
       "    <tr>\n",
       "      <th>75%</th>\n",
       "      <td>8.578100</td>\n",
       "      <td>7.046700</td>\n",
       "    </tr>\n",
       "    <tr>\n",
       "      <th>max</th>\n",
       "      <td>22.203000</td>\n",
       "      <td>24.147000</td>\n",
       "    </tr>\n",
       "  </tbody>\n",
       "</table>\n",
       "</div>"
      ],
      "text/plain": [
       "       Population     Profit\n",
       "count   97.000000  97.000000\n",
       "mean     8.159800   5.839135\n",
       "std      3.869884   5.510262\n",
       "min      5.026900  -2.680700\n",
       "25%      5.707700   1.986900\n",
       "50%      6.589400   4.562300\n",
       "75%      8.578100   7.046700\n",
       "max     22.203000  24.147000"
      ]
     },
     "execution_count": 90,
     "metadata": {},
     "output_type": "execute_result"
    }
   ],
   "source": [
    "#Data Summary\n",
    "data.describe()"
   ]
  },
  {
   "cell_type": "code",
   "execution_count": 91,
   "metadata": {},
   "outputs": [
    {
     "data": {
      "text/html": [
       "<style  type=\"text/css\" >\n",
       "    #T_6914a2f8_e169_11e9_a00e_606dc7fce2b2row0_col0 {\n",
       "            background-color:  #5e4fa2;\n",
       "        }    #T_6914a2f8_e169_11e9_a00e_606dc7fce2b2row0_col1 {\n",
       "            background-color:  #9e0142;\n",
       "        }    #T_6914a2f8_e169_11e9_a00e_606dc7fce2b2row1_col0 {\n",
       "            background-color:  #9e0142;\n",
       "        }    #T_6914a2f8_e169_11e9_a00e_606dc7fce2b2row1_col1 {\n",
       "            background-color:  #5e4fa2;\n",
       "        }</style>  \n",
       "<table id=\"T_6914a2f8_e169_11e9_a00e_606dc7fce2b2\" > \n",
       "<thead>    <tr> \n",
       "        <th class=\"blank level0\" ></th> \n",
       "        <th class=\"col_heading level0 col0\" >Population</th> \n",
       "        <th class=\"col_heading level0 col1\" >Profit</th> \n",
       "    </tr></thead> \n",
       "<tbody>    <tr> \n",
       "        <th id=\"T_6914a2f8_e169_11e9_a00e_606dc7fce2b2level0_row0\" class=\"row_heading level0 row0\" >Population</th> \n",
       "        <td id=\"T_6914a2f8_e169_11e9_a00e_606dc7fce2b2row0_col0\" class=\"data row0 col0\" >1</td> \n",
       "        <td id=\"T_6914a2f8_e169_11e9_a00e_606dc7fce2b2row0_col1\" class=\"data row0 col1\" >0.837873</td> \n",
       "    </tr>    <tr> \n",
       "        <th id=\"T_6914a2f8_e169_11e9_a00e_606dc7fce2b2level0_row1\" class=\"row_heading level0 row1\" >Profit</th> \n",
       "        <td id=\"T_6914a2f8_e169_11e9_a00e_606dc7fce2b2row1_col0\" class=\"data row1 col0\" >0.837873</td> \n",
       "        <td id=\"T_6914a2f8_e169_11e9_a00e_606dc7fce2b2row1_col1\" class=\"data row1 col1\" >1</td> \n",
       "    </tr></tbody> \n",
       "</table> "
      ],
      "text/plain": [
       "<pandas.io.formats.style.Styler at 0x84b15a73c8>"
      ]
     },
     "execution_count": 91,
     "metadata": {},
     "output_type": "execute_result"
    }
   ],
   "source": [
    "# Correlation \n",
    "corr = data.corr()\n",
    "corr.style.background_gradient(cmap='Spectral')"
   ]
  },
  {
   "cell_type": "code",
   "execution_count": 92,
   "metadata": {},
   "outputs": [
    {
     "data": {
      "text/html": [
       "<style  type=\"text/css\" >\n",
       "    #T_69caf468_e169_11e9_b110_606dc7fce2b2row0_col0 {\n",
       "            background-color:  #9e0142;\n",
       "        }    #T_69caf468_e169_11e9_b110_606dc7fce2b2row0_col1 {\n",
       "            background-color:  #9e0142;\n",
       "        }    #T_69caf468_e169_11e9_b110_606dc7fce2b2row1_col0 {\n",
       "            background-color:  #5e4fa2;\n",
       "        }    #T_69caf468_e169_11e9_b110_606dc7fce2b2row1_col1 {\n",
       "            background-color:  #5e4fa2;\n",
       "        }</style>  \n",
       "<table id=\"T_69caf468_e169_11e9_b110_606dc7fce2b2\" > \n",
       "<thead>    <tr> \n",
       "        <th class=\"blank level0\" ></th> \n",
       "        <th class=\"col_heading level0 col0\" >Population</th> \n",
       "        <th class=\"col_heading level0 col1\" >Profit</th> \n",
       "    </tr></thead> \n",
       "<tbody>    <tr> \n",
       "        <th id=\"T_69caf468_e169_11e9_b110_606dc7fce2b2level0_row0\" class=\"row_heading level0 row0\" >Population</th> \n",
       "        <td id=\"T_69caf468_e169_11e9_b110_606dc7fce2b2row0_col0\" class=\"data row0 col0\" >14.976</td> \n",
       "        <td id=\"T_69caf468_e169_11e9_b110_606dc7fce2b2row0_col1\" class=\"data row0 col1\" >17.8669</td> \n",
       "    </tr>    <tr> \n",
       "        <th id=\"T_69caf468_e169_11e9_b110_606dc7fce2b2level0_row1\" class=\"row_heading level0 row1\" >Profit</th> \n",
       "        <td id=\"T_69caf468_e169_11e9_b110_606dc7fce2b2row1_col0\" class=\"data row1 col0\" >17.8669</td> \n",
       "        <td id=\"T_69caf468_e169_11e9_b110_606dc7fce2b2row1_col1\" class=\"data row1 col1\" >30.363</td> \n",
       "    </tr></tbody> \n",
       "</table> "
      ],
      "text/plain": [
       "<pandas.io.formats.style.Styler at 0x84b15a7198>"
      ]
     },
     "execution_count": 92,
     "metadata": {},
     "output_type": "execute_result"
    }
   ],
   "source": [
    "# Covariance\n",
    "cov = data.cov()\n",
    "cov.style.background_gradient(cmap='Spectral')"
   ]
  },
  {
   "cell_type": "code",
   "execution_count": 93,
   "metadata": {},
   "outputs": [
    {
     "data": {
      "text/plain": [
       "Text(0,0.5,'Profit in $10,000s')"
      ]
     },
     "execution_count": 93,
     "metadata": {},
     "output_type": "execute_result"
    },
    {
     "data": {
      "image/png": "[encoded data removed]",
      "text/plain": [
       "<Figure size 864x576 with 1 Axes>"
      ]
     },
     "metadata": {},
     "output_type": "display_data"
    }
   ],
   "source": [
    "# scatterplot\n",
    "data.plot(kind = 'scatter', x = 'Population', y = 'Profit',\n",
    "          s= 40, color = 'blue', figsize=(12,8))\n",
    "\n",
    "# labels\n",
    "plt.xlabel('Population of City in 10,000s', fontsize = 14)\n",
    "plt.ylabel('Profit in $10,000s', fontsize =14)"
   ]
  },
  {
   "cell_type": "code",
   "execution_count": 94,
   "metadata": {},
   "outputs": [],
   "source": [
    "# input values - xs and 1s\n",
    "nrows = data.shape[0]\n",
    "ncols = data.shape[1]\n",
    "\n",
    "x = data.loc[:, 'Population'].values #converts to Numpy array\n",
    "x = x.reshape(nrows, 1)  # Alternatively x.reshape(-1,1)"
   ]
  },
  {
   "cell_type": "code",
   "execution_count": 95,
   "metadata": {},
   "outputs": [
    {
     "data": {
      "text/plain": [
       "(97, 1)"
      ]
     },
     "execution_count": 95,
     "metadata": {},
     "output_type": "execute_result"
    }
   ],
   "source": [
    "x.shape"
   ]
  },
  {
   "cell_type": "code",
   "execution_count": 96,
   "metadata": {},
   "outputs": [],
   "source": [
    "# normalize the data attributes\n",
    "normalized_x = preprocessing.normalize(x)"
   ]
  },
  {
   "cell_type": "code",
   "execution_count": 97,
   "metadata": {},
   "outputs": [],
   "source": [
    "one_stack = np.ones((nrows,1))\n",
    "x_stack = np.hstack((x, one_stack))"
   ]
  },
  {
   "cell_type": "code",
   "execution_count": 98,
   "metadata": {},
   "outputs": [
    {
     "data": {
      "text/plain": [
       "array([[6.1101, 1.    ],\n",
       "       [5.5277, 1.    ],\n",
       "       [8.5186, 1.    ]])"
      ]
     },
     "execution_count": 98,
     "metadata": {},
     "output_type": "execute_result"
    }
   ],
   "source": [
    "x_stack[:3]"
   ]
  },
  {
   "cell_type": "code",
   "execution_count": 128,
   "metadata": {},
   "outputs": [],
   "source": [
    "# output variable\n",
    "y = data.loc[:, 'Profit'].values # converts to Numpy array\n",
    "y = y.reshape(nrows,1)"
   ]
  },
  {
   "cell_type": "code",
   "execution_count": 150,
   "metadata": {},
   "outputs": [],
   "source": [
    "def train(x, y, iteration_, printevery_,alpha_):\n",
    "    print_every = printevery_ \n",
    "    iteration = iteration_\n",
    "    alpha = alpha_\n",
    "    \n",
    "    # Zero initialization of parameters \n",
    "    theta = [[0.5],[0.5]]\n",
    "    \n",
    "    # Here, want to save our cost function or loss or square error, \n",
    "    # so that we can have an idea of how the deviation of the hypothesis from the ground thruth reduces\n",
    "    cost_function = np.zeros(iteration)\n",
    "    \n",
    "    for i in range(0, iteration):\n",
    "        # Step 1: we make a prediction using the random weights (theta) that we initialized\n",
    "        # @ is a fancy way do performing dot products\n",
    "        h = x @ theta\n",
    "        \n",
    "        # Step 2: We take a step to correct the weights (theta) to that the next predicion will be better\n",
    "        theta = update_weight(h, theta, x, alpha)\n",
    "        \n",
    "        # Step 3: We measure the deviation or error\n",
    "        cost_function[i] = cost(x, theta)\n",
    "        \n",
    "        # Display result every 50 iterations\n",
    "        if i % print_every  == 0:\n",
    "            print(\"Iteration: {}, Cost function: {} \".format(i, cost_function[i]))\n",
    "            \n",
    "\n",
    "    return theta, cost_function"
   ]
  },
  {
   "cell_type": "code",
   "execution_count": 156,
   "metadata": {},
   "outputs": [],
   "source": [
    "def cost(x, theta):\n",
    "    m = nrows\n",
    "    h = x @ theta\n",
    "    return (1/(2 * m)) * np.sum(np.square(h - y))"
   ]
  },
  {
   "cell_type": "code",
   "execution_count": 157,
   "metadata": {},
   "outputs": [],
   "source": [
    "def update_weight(h, theta, x, alpha):\n",
    "    m = nrows\n",
    "    alpha = alpha\n",
    "    theta = theta - alpha * (1 / m * ( x.T @ (h - y)))\n",
    "    return theta"
   ]
  },
  {
   "cell_type": "code",
   "execution_count": 158,
   "metadata": {},
   "outputs": [
    {
     "name": "stdout",
     "output_type": "stream",
     "text": [
      "Iteration: 0, Cost function: 6.331084923480765 \n",
      "Iteration: 50, Cost function: 5.957119560081572 \n",
      "Iteration: 100, Cost function: 5.712773141061569 \n",
      "Iteration: 150, Cost function: 5.5087640160564515 \n",
      "Iteration: 200, Cost function: 5.338433207639953 \n",
      "Iteration: 250, Cost function: 5.19622101838082 \n",
      "Iteration: 300, Cost function: 5.077485559059671 \n",
      "Iteration: 350, Cost function: 4.978351234683895 \n",
      "Iteration: 400, Cost function: 4.895582242795294 \n",
      "Iteration: 450, Cost function: 4.826476954981081 \n",
      "Iteration: 500, Cost function: 4.768779734138858 \n",
      "Iteration: 550, Cost function: 4.720607309159362 \n",
      "Iteration: 600, Cost function: 4.680387303853546 \n",
      "Iteration: 650, Cost function: 4.646806913672061 \n",
      "Iteration: 700, Cost function: 4.618770054995222 \n",
      "Iteration: 750, Cost function: 4.59536158832117 \n",
      "Iteration: 800, Cost function: 4.575817447576082 \n",
      "Iteration: 850, Cost function: 4.559499700549654 \n",
      "Iteration: 900, Cost function: 4.5458757264138026 \n",
      "Iteration: 950, Cost function: 4.534500830666628 \n",
      "Iteration: 1000, Cost function: 4.52500373004321 \n",
      "Iteration: 1050, Cost function: 4.517074433612184 \n",
      "Iteration: 1100, Cost function: 4.510454124490047 \n",
      "Iteration: 1150, Cost function: 4.504926711906356 \n",
      "Iteration: 1200, Cost function: 4.500311777874323 \n",
      "Iteration: 1250, Cost function: 4.496458688241958 \n",
      "Iteration: 1300, Cost function: 4.4932416759050575 \n",
      "Iteration: 1350, Cost function: 4.490555735695194 \n",
      "Iteration: 1400, Cost function: 4.488313196949474 \n",
      "Iteration: 1450, Cost function: 4.486440861888705 \n",
      "Iteration: 1500, Cost function: 4.48487761639898 \n",
      "Iteration: 1550, Cost function: 4.483572435231167 \n",
      "Iteration: 1600, Cost function: 4.482482716506881 \n",
      "Iteration: 1650, Cost function: 4.481572891168187 \n",
      "Iteration: 1700, Cost function: 4.480813261982711 \n",
      "Iteration: 1750, Cost function: 4.480179034208557 \n",
      "Iteration: 1800, Cost function: 4.479649506279406 \n",
      "Iteration: 1850, Cost function: 4.479207394093253 \n",
      "Iteration: 1900, Cost function: 4.4788382668491815 \n",
      "Iteration: 1950, Cost function: 4.478530076017573 \n",
      "Iteration: 2000, Cost function: 4.478272762069026 \n",
      "Iteration: 2050, Cost function: 4.478057926125431 \n",
      "Iteration: 2100, Cost function: 4.477878555815654 \n",
      "Iteration: 2150, Cost function: 4.47772879638764 \n",
      "Iteration: 2200, Cost function: 4.4776037596058735 \n",
      "Iteration: 2250, Cost function: 4.477499364196505 \n",
      "Iteration: 2300, Cost function: 4.477412202632176 \n",
      "Iteration: 2350, Cost function: 4.4773394299083344 \n",
      "Iteration: 2400, Cost function: 4.477278670680618 \n",
      "Iteration: 2450, Cost function: 4.477227941732216 \n"
     ]
    }
   ],
   "source": [
    "\n",
    "theta, cost_values = train(x_stack,y,2500,50,0.01)"
   ]
  },
  {
   "cell_type": "code",
   "execution_count": 159,
   "metadata": {},
   "outputs": [
    {
     "data": {
      "text/plain": [
       "array([6.33108492, 6.24596258, 6.23711197, ..., 4.47718792, 4.47718714,\n",
       "       4.47718636])"
      ]
     },
     "execution_count": 159,
     "metadata": {},
     "output_type": "execute_result"
    }
   ],
   "source": [
    "# Now, lets see our cost_values\n",
    "cost_values"
   ]
  },
  {
   "cell_type": "code",
   "execution_count": 160,
   "metadata": {},
   "outputs": [
    {
     "data": {
      "text/plain": [
       "array([6.33108492, 6.24596258, 6.23711197, ..., 4.47718792, 4.47718714,\n",
       "       4.47718636])"
      ]
     },
     "execution_count": 160,
     "metadata": {},
     "output_type": "execute_result"
    }
   ],
   "source": [
    "cost_values"
   ]
  },
  {
   "cell_type": "code",
   "execution_count": 161,
   "metadata": {},
   "outputs": [
    {
     "name": "stdout",
     "output_type": "stream",
     "text": [
      "Our learned value of theta:  [ 1.18815177 -3.84718606]\n"
     ]
    }
   ],
   "source": [
    "# Now, lets see our trained weights\n",
    "print('Our learned value of theta: ',theta.ravel())"
   ]
  },
  {
   "cell_type": "code",
   "execution_count": 162,
   "metadata": {},
   "outputs": [
    {
     "data": {
      "text/plain": [
       "(2, 1)"
      ]
     },
     "execution_count": 162,
     "metadata": {},
     "output_type": "execute_result"
    }
   ],
   "source": [
    "theta.shape"
   ]
  },
  {
   "cell_type": "code",
   "execution_count": 163,
   "metadata": {},
   "outputs": [
    {
     "data": {
      "text/plain": [
       "(2,)"
      ]
     },
     "execution_count": 163,
     "metadata": {},
     "output_type": "execute_result"
    }
   ],
   "source": [
    "theta.ravel().shape # Alternatively theta.squeeze().shape"
   ]
  },
  {
   "cell_type": "code",
   "execution_count": 164,
   "metadata": {},
   "outputs": [
    {
     "data": {
      "image/png": "[encoded data removed]",
      "text/plain": [
       "<Figure size 432x288 with 1 Axes>"
      ]
     },
     "metadata": {},
     "output_type": "display_data"
    }
   ],
   "source": [
    "plt.plot(cost_values)\n",
    "plt.ylabel('Cost J')\n",
    "plt.xlabel('Iterations')\n",
    "plt.show()"
   ]
  },
  {
   "cell_type": "code",
   "execution_count": 165,
   "metadata": {},
   "outputs": [
    {
     "data": {
      "text/plain": [
       "[<matplotlib.lines.Line2D at 0x84b16a64e0>]"
      ]
     },
     "execution_count": 165,
     "metadata": {},
     "output_type": "execute_result"
    },
    {
     "data": {
      "image/png": "[encoded data removed]",
      "text/plain": [
       "<Figure size 432x288 with 1 Axes>"
      ]
     },
     "metadata": {},
     "output_type": "display_data"
    }
   ],
   "source": [
    "x_plot = np.arange(5,23)\n",
    "y_plot = theta[0]*x_plot + theta[1]\n",
    "# Plot gradient descent\n",
    "plt.scatter(x[:,0], y, s=30, c='r', marker='o', linewidths=1)\n",
    "plt.plot(x_plot,y_plot, label='Linear regression (Gradient descent)')"
   ]
  },
  {
   "cell_type": "code",
   "execution_count": 166,
   "metadata": {},
   "outputs": [],
   "source": [
    "def predict():\n",
    "    input_ = float(input('Enter the population size(10,000): '))\n",
    "    print(\"For a population of {}, the estimated profit is ${}\".format(input_, input_ * 1.2334223))"
   ]
  },
  {
   "cell_type": "code",
   "execution_count": 167,
   "metadata": {},
   "outputs": [
    {
     "name": "stdout",
     "output_type": "stream",
     "text": [
      "Enter the population size(10,000): 500\n",
      "For a population of 500.0, the estimated profit is $616.71115\n"
     ]
    }
   ],
   "source": [
    "predict()"
   ]
  },
  {
   "cell_type": "code",
   "execution_count": null,
   "metadata": {},
   "outputs": [],
   "source": []
  }
 ],
 "metadata": {
  "kernelspec": {
   "display_name": "Python 3",
   "language": "python",
   "name": "python3"
  },
  "language_info": {
   "codemirror_mode": {
    "name": "ipython",
    "version": 3
   },
   "file_extension": ".py",
   "mimetype": "text/x-python",
   "name": "python",
   "nbconvert_exporter": "python",
   "pygments_lexer": "ipython3",
   "version": "3.6.5"
  }
 },
 "nbformat": 4,
 "nbformat_minor": 2
}
